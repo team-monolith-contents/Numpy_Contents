{
 "cells": [
  {
   "cell_type": "markdown",
   "id": "9d1576c7-b439-476f-964d-c7cf0a38b9f6",
   "metadata": {
    "tags": []
   },
   "source": [
    "## 0. 들어가며 - 공인중개사 철수 #1"
   ]
  },
  {
   "attachments": {
    "0a3c2d4b-c87e-4a5c-9653-50c40e2761a3.png": {
     "image/png": "[encoded data removed]"
    }
   },
   "cell_type": "markdown",
   "id": "53a3c3a8-09dc-45fe-93bc-9a8e9d99d76b",
   "metadata": {
    "jp-MarkdownHeadingCollapsed": true,
    "tags": []
   },
   "source": [
    "철수는 천천마을의 모든 건물을 중개하는 공인중개사입니다.  \n",
    "철수는 사람들에게 알맞는 건물을 소개해주는 것을 뿌듯해하며 자신의 직업에 만족하고 있습니다.     \n",
    "하지만 그런 철수에게도 고민이 하나 있었으니... 그건 바로 자신이 관리해야하는 건물의 수가 너무 많다는 것입니다.  \n",
    "천천마을은 아래처럼 1000 x 1000개, 즉 100만개의 건물로 이루어져 있습니다.  \n",
    "\n",
    "![image.png](attachment:0a3c2d4b-c87e-4a5c-9653-50c40e2761a3.png)\n",
    "\n",
    "철수는 이 모든 건물을 수기로 기록하고 찾는데, 이 때문에 실수가 잦았습니다.   \n",
    "철수는 결국 이 건물을 프로그램을 활용해서 관리하려고 합니다.  \n",
    "철수는 프로그램으로 실수를 줄일 수만 있다면 백만금이라도 낼 의향이 있습니다.  \n",
    "우리가 철수를 도와 프로그램을 개발해봅시다.   \n"
   ]
  },
  {
   "cell_type": "markdown",
   "id": "f22d1381-f7a5-464c-afb8-445079d25d4c",
   "metadata": {},
   "source": [
    "## 1. 세븐틴을 찾아주세요!"
   ]
  },
  {
   "cell_type": "markdown",
   "id": "7608fc47-3d33-4dc1-9605-6765460bcdbc",
   "metadata": {},
   "source": [
    "\"어떤 집을 찾으세요?\"  \n",
    "철수는 노련한 공인중개사의 면모를 풍기며 손님을 맞았습니다.  \n",
    "\"전등이 17개 있는 집을 찾는데요...\"  \n",
    "\n",
    "철수의 미간이 찌푸려졌습니다. '17개의 전등이 있는 집을 왜 찾는거야'  \n",
    "\"아하하 조금만 기다려주세요^^\"  \n",
    "손님은 이뿐만 아니라 17과 관련된 모든 것을 물어보았습니다.   \n",
    "철수는 공인중개사 일을 하며 수많은 손님을 만나보았지만, 이토록 특이한 손님은 처음이었습니다.  \n",
    "\n",
    "\n",
    "\"끄응...\"\n",
    "문제는 철수가 17개의 전등을 가진 집을 찾지 못하고 있다는 것입니다.    \n",
    "손님의 요구가 가능하다면 들어줄 수 있지만, 이번 요구는 너무나도 지엽적이어서 그 가능여부를 확인하는 것조차도 매우 어려웠습니다.   \n",
    "\n",
    "철수는 17개의 전동이 있는 집을 찾는 프로그램을 간절히 바랐습니다.     \n",
    "'프로그램만 있었다면...'  \n",
    "\n",
    "여러분들이 철수를 도와 행운의 세븐틴 집을 찾을 수 있는 프로그램을 작성해주세요."
   ]
  },
  {
   "cell_type": "markdown",
   "id": "38c8e643-b93b-40ce-9802-65472857429f",
   "metadata": {},
   "source": [
    "### 1.1. 집 정보 불러오기"
   ]
  },
  {
   "cell_type": "markdown",
   "id": "da096a20-640e-434d-b7a0-07b89cbf0e7f",
   "metadata": {},
   "source": [
    "철수가 관리하는 집들의 정보는 **numpy** array 형태로 저장되어 있습니다. 정보들을 불러와 봅시다.\n",
    "* `np.load(<파일 경로>)`는 경로에 위치한 파일을 읽어 numpy array 형태로 불러옵니다."
   ]
  },
  {
   "cell_type": "code",
   "execution_count": 2,
   "id": "6bad2ee3-f92e-4a3e-bf84-161450d0eca5",
   "metadata": {},
   "outputs": [
    {
     "data": {
      "text/plain": [
       "array([[ 1,  6, 15, ...,  3,  7,  1],\n",
       "       [11, 10,  7, ...,  9,  4, 15],\n",
       "       [ 6, 10,  4, ..., 14,  3, 11],\n",
       "       ...,\n",
       "       [10, 13,  2, ...,  1, 11,  2],\n",
       "       [10, 10, 12, ...,  3,  2,  1],\n",
       "       [ 1,  6, 14, ...,  5,  8,  3]])"
      ]
     },
     "execution_count": 2,
     "metadata": {},
     "output_type": "execute_result"
    }
   ],
   "source": [
    "import numpy as np\n",
    "\n",
    "house_arr = np.load('seventeen.npy')\n",
    "house_arr"
   ]
  },
  {
   "cell_type": "markdown",
   "id": "51392819-521c-4e14-be9c-9379dd895861",
   "metadata": {},
   "source": [
    "### 1.2. 배열 모양 확인하기\n",
    "우리는 천천마을에 주택이 1000 x 1000으로 위치하고 있는 것을 알고 있습니다. 불러온 배열의 크기를 확인하여 제대로 불러온 것이 맞는지 확인해봅시다.  \n",
    "(배열의 크기는 `(행의 개수, 열의 개수)`형식으로 표현됩니다. 따라서 우리 데이터의 크기는 (1000, 1000)이어야 합니다. )\n",
    "* `arr.shape`은 arr이 numpy array꼴의 변수인 경우에 해당 변수의 크기를 반환합니다. "
   ]
  },
  {
   "cell_type": "code",
   "execution_count": 4,
   "id": "2d2d067f-b847-4ba2-9959-0e6f30215072",
   "metadata": {},
   "outputs": [
    {
     "data": {
      "text/plain": [
       "(1000, 1000)"
      ]
     },
     "execution_count": 4,
     "metadata": {},
     "output_type": "execute_result"
    }
   ],
   "source": [
    "house_arr.shape"
   ]
  },
  {
   "cell_type": "markdown",
   "id": "93e9204c-8a94-46ad-8ca2-7d6c07436b5e",
   "metadata": {},
   "source": [
    "### 1.3. 배열 타입 확인하기\n",
    "불러온 1000 x 1000 크기의 배열에는 집별 전등의 개수가 저장되어있습니다.  \n",
    "전등의 개수는 0 이상의 정수겠죠? (0.5개 짜리 전등은 없기 때문입니다.)  \n",
    "그렇다면 불러온 배열 또한 실수가 아닌 정수로 이루어져 있어야 합니다. 불러온 배열이 정수로 이루어져 있는지 확인해봅시다.  \n",
    "* `arr.dtype`은 arr이 numpy array꼴의 변수인 경우에 해당 변수의 자료형을 반환합니다."
   ]
  },
  {
   "cell_type": "code",
   "execution_count": 8,
   "id": "cec6a46b-ea93-413a-8e23-c2f0156e531c",
   "metadata": {},
   "outputs": [
    {
     "data": {
      "text/plain": [
       "dtype('int64')"
      ]
     },
     "execution_count": 8,
     "metadata": {},
     "output_type": "execute_result"
    }
   ],
   "source": [
    "house_arr.dtype"
   ]
  },
  {
   "cell_type": "markdown",
   "id": "f11201f7-9b87-4810-a930-18d886654e86",
   "metadata": {},
   "source": [
    "### 1.4. 17인 인덱스 찾기(1)"
   ]
  },
  {
   "cell_type": "markdown",
   "id": "3eac38ba-f77e-41ed-b658-5a3b1189e14d",
   "metadata": {},
   "source": [
    "이제 본격적으로 17을 찾아보겠습니다. 불러온 배열에서 값이 17인 인덱스를 찾아 봅시다.  \n",
    "이를 위해서는 먼저 각 배열의 값이 17과 일치하는지 확인해보아야 합니다.     \n",
    "각 원소가 17과 값이 다르다면 `False`, 17과 값이 같다면 `True`를 출력하도록 해보자.  \n",
    "* `arr == <값>` - 배열의 모든 원소가 값과 일치한지를 비교한다. 값이 같다면 `True`를, 다르다면 `False`를 출력한다."
   ]
  },
  {
   "cell_type": "code",
   "execution_count": 9,
   "id": "5877ce55-3f2d-427e-b6c6-a8874191e4fd",
   "metadata": {},
   "outputs": [
    {
     "data": {
      "text/plain": [
       "array([[False, False, False, ..., False, False, False],\n",
       "       [False, False, False, ..., False, False, False],\n",
       "       [False, False, False, ..., False, False, False],\n",
       "       ...,\n",
       "       [False, False, False, ..., False, False, False],\n",
       "       [False, False, False, ..., False, False, False],\n",
       "       [False, False, False, ..., False, False, False]])"
      ]
     },
     "execution_count": 9,
     "metadata": {},
     "output_type": "execute_result"
    }
   ],
   "source": [
    "house_arr == 17"
   ]
  },
  {
   "cell_type": "markdown",
   "id": "df99eebe-4a61-43aa-bd6d-712530105a10",
   "metadata": {},
   "source": [
    "### 1.5. 17인 인덱스 찾기(2)"
   ]
  },
  {
   "cell_type": "markdown",
   "id": "68b9daa2-46fc-4032-a863-424f80da29c0",
   "metadata": {},
   "source": [
    "이제 각 원소가 17과 같은지 아닌지를 찾을 수 있습니다. 해당 배열로부터 17이 존재하는 인덱스를 출력해봅시다.\n",
    "* `np.argwhere(arr)`은 변수 arr에서 True(1)값이 어느 인덱스에 위치하는지를 출력합니다."
   ]
  },
  {
   "cell_type": "code",
   "execution_count": 10,
   "id": "b6d0a1f0-7bcd-4f88-a3a2-2606fd52caa8",
   "metadata": {},
   "outputs": [
    {
     "data": {
      "text/plain": [
       "array([[17, 17]])"
      ]
     },
     "execution_count": 10,
     "metadata": {},
     "output_type": "execute_result"
    }
   ],
   "source": [
    "np.argwhere(house_arr == 17)  # 위에서 arr==<값>은 True나 False를 반환했죠? "
   ]
  },
  {
   "cell_type": "markdown",
   "id": "d26ff70d-a01b-40e0-8dff-b11b5ed87af8",
   "metadata": {},
   "source": [
    "### 1.6. 인덱스 대입하기\n",
    "철수는 마침내 17이라는 값이 위치한 인덱스를 알아낼 수 있었습니다.  \n",
    "이제는 알아낸 인덱스를 통해 해당 인덱스의 요소에 실제로 17이 존재하는지를 알아볼 차례입니다.  \n",
    "해당 인덱스에 존재하는 값을 출력해보세요."
   ]
  },
  {
   "cell_type": "code",
   "execution_count": 11,
   "id": "261516fc-cb92-43a5-bbed-3c2a0471346d",
   "metadata": {},
   "outputs": [
    {
     "data": {
      "text/plain": [
       "17"
      ]
     },
     "execution_count": 11,
     "metadata": {},
     "output_type": "execute_result"
    }
   ],
   "source": [
    "house_arr[17, 17]"
   ]
  },
  {
   "cell_type": "markdown",
   "id": "dfef798b-2f6f-4a4b-9546-5f83c9f5792d",
   "metadata": {},
   "source": [
    "## 2. 엔딩"
   ]
  },
  {
   "cell_type": "markdown",
   "id": "ca8cd933-4c5c-4fec-960c-43e0d6257a2a",
   "metadata": {},
   "source": [
    "\"오래 기다리셨습니다! 마침 17개의 전등이 있는 집이 하나밖에 없지 뭐에요.\"  \n",
    "손님의 눈이 동그라졌다.  \n",
    "\"한 군데밖에 없어요?\"  \n",
    "\"네, 거기다가 17행 17열에 있더라구요\"  \n",
    "손님의 입이 쩌억 벌어졌다.  \n",
    "\"호..혹시 그 집 비었습니까? 바로 사겠습니다.\"  \n",
    "\"네 여기로 오셔서 도장 찍으시죠\"  \n",
    "철수는 싱글벙글 웃으며 손님에게 계약서를 내밀었다.  \n"
   ]
  },
  {
   "cell_type": "code",
   "execution_count": null,
   "id": "0c32d7a5-0258-4c21-a6c6-247f385b210e",
   "metadata": {},
   "outputs": [],
   "source": []
  }
 ],
 "metadata": {
  "kernelspec": {
   "display_name": "Python 3 (ipykernel)",
   "language": "python",
   "name": "python3"
  },
  "language_info": {
   "codemirror_mode": {
    "name": "ipython",
    "version": 3
   },
   "file_extension": ".py",
   "mimetype": "text/x-python",
   "name": "python",
   "nbconvert_exporter": "python",
   "pygments_lexer": "ipython3",
   "version": "3.10.4"
  }
 },
 "nbformat": 4,
 "nbformat_minor": 5
}

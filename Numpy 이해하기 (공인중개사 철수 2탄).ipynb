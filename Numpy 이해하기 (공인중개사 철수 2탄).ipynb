{
 "cells": [
  {
   "cell_type": "markdown",
   "id": "9d1576c7-b439-476f-964d-c7cf0a38b9f6",
   "metadata": {
    "tags": []
   },
   "source": [
    "## 0. 들어가며 - 공인중개사 철수 #2"
   ]
  },
  {
   "attachments": {
    "0a3c2d4b-c87e-4a5c-9653-50c40e2761a3.png": {
     "image/png": "[encoded data removed]"
    }
   },
   "cell_type": "markdown",
   "id": "53a3c3a8-09dc-45fe-93bc-9a8e9d99d76b",
   "metadata": {
    "jp-MarkdownHeadingCollapsed": true,
    "tags": []
   },
   "source": [
    "철수는 천천마을의 모든 건물을 중개하는 공인중개사입니다.  \n",
    "철수는 사람들에게 알맞는 건물을 소개해주는 것을 뿌듯해하며 자신의 직업에 만족하고 있습니다.     \n",
    "하지만 그런 철수에게도 고민이 하나 있었으니... 그건 바로 자신이 관리해야하는 건물의 수가 너무 많다는 것입니다.  \n",
    "천천마을은 아래처럼 1000 x 1000개, 즉 100만개의 건물로 이루어져 있습니다.  \n",
    "\n",
    "![image.png](attachment:0a3c2d4b-c87e-4a5c-9653-50c40e2761a3.png)\n",
    "\n",
    "철수는 이 모든 건물을 수기로 기록하고 찾는데, 이 때문에 실수가 잦았습니다.   \n",
    "철수는 결국 이 건물을 프로그램을 활용해서 관리하려고 합니다.  \n",
    "철수는 프로그램으로 실수를 줄일 수만 있다면 백만금이라도 낼 의향이 있습니다.  \n",
    "우리가 철수를 도와 프로그램을 개발해봅시다.   \n"
   ]
  },
  {
   "cell_type": "markdown",
   "id": "f22d1381-f7a5-464c-afb8-445079d25d4c",
   "metadata": {},
   "source": [
    "## 1. 정사각형 구역을 찾아주세요!"
   ]
  },
  {
   "cell_type": "markdown",
   "id": "7608fc47-3d33-4dc1-9605-6765460bcdbc",
   "metadata": {},
   "source": [
    "\"어떤 집을 찾으세요?\"  \n",
    "철수는 노련한 공인중개사의 면모를 풍기며 손님을 맞았습니다.  \n",
    "\"같은 재료로만 이루어진 건물을 찾는데요...\"  \n",
    "\n",
    "철수의 미간이 찌푸려졌습니다. '아니 저번에 17에 집착하던 손님도 그렇고 특이한 손님이 많네... 같은 재료로 지어진 건물들을 찾다니'  \n",
    "\"아하하 조금만 기다려주세요^^\"\n",
    "\n",
    "철수는 천천마을 어딘가에 24블록의 정사각형 구역이 있고, 그 동네의 건물은 모두 한 재료로만 지어졌다는 것을 알고 있었습니다.  \n",
    "하지만 건물이 너무 많은 탓에 어딘지를 찾을 수가 없었습니다.  \n",
    "\"끙... 잠시만 기다려주세요. 건물이 너무 많아서요.\"  \n",
    "\n",
    "\n",
    "철수는 같은 재료로만 이루어진 건물을 찾는 프로그램을 간절히 바랐습니다.     \n",
    "'프로그램만 있었다면...'  \n",
    "\n",
    "여러분들이 철수를 도와 정사각형 구역을 찾을 수 있는 프로그램을 작성해주세요."
   ]
  },
  {
   "cell_type": "markdown",
   "id": "38c8e643-b93b-40ce-9802-65472857429f",
   "metadata": {},
   "source": [
    "### 1.1. 집 정보 불러오기"
   ]
  },
  {
   "cell_type": "markdown",
   "id": "da096a20-640e-434d-b7a0-07b89cbf0e7f",
   "metadata": {},
   "source": [
    "철수가 관리하는 건물들의 정보가 **numpy** array 형태로 저장되어 있습니다. 정보들을 불러온 후 크기와 자료형을 확인해 봅시다.\n",
    "* `np.load(<파일 경로>)`는 경로에 위치한 파일을 읽어 numpy array 형태로 불러옵니다.\n",
    "* `arr.shape`은 arr이 numpy array꼴의 변수인 경우에 해당 변수의 크기를 반환합니다.\n",
    "* `arr.dtype`은 arr이 numpy array꼴의 변수인 경우에 해당 변수의 자료형을 반환합니다."
   ]
  },
  {
   "cell_type": "code",
   "execution_count": 2,
   "id": "6bad2ee3-f92e-4a3e-bf84-161450d0eca5",
   "metadata": {},
   "outputs": [
    {
     "name": "stdout",
     "output_type": "stream",
     "text": [
      "[[11  8  1 ... 12 13  9]\n",
      " [ 4 15  3 ...  7  9  5]\n",
      " [ 5  4  5 ... 10  4  6]\n",
      " ...\n",
      " [ 8  7 10 ...  6 12  8]\n",
      " [ 4 14 15 ... 14  7 13]\n",
      " [13  5  8 ...  6  3 12]]\n",
      "(1000, 1000)\n",
      "int64\n"
     ]
    }
   ],
   "source": [
    "import numpy as np\n",
    "\n",
    "house_arr = np.load('square.npy')\n",
    "print(house_arr)\n",
    "print(house_arr.shape)\n",
    "print(house_arr.dtype)"
   ]
  },
  {
   "cell_type": "markdown",
   "id": "58b8e49e-3057-44b2-977e-a423294fb679",
   "metadata": {},
   "source": [
    "### 1.2. 배열 자르기"
   ]
  },
  {
   "cell_type": "markdown",
   "id": "639158d2-3c6f-446a-88b5-22656f34ec52",
   "metadata": {
    "tags": []
   },
   "source": [
    "#### 개념 - 2차원 배열 자르기"
   ]
  },
  {
   "attachments": {
    "803a32b7-fee1-41d3-8182-6f54719a96b5.png": {
     "image/png": "[encoded data removed]"
    }
   },
   "cell_type": "markdown",
   "id": "f664e031-f0ee-4384-98e4-5d885f1c2431",
   "metadata": {},
   "source": [
    "2차원 배열 slicing은 다음과 같이 할 수 있습니다.  \n",
    "![image.png](attachment:803a32b7-fee1-41d3-8182-6f54719a96b5.png)\n",
    "인덱스를 조금 더 자세히 볼까요?  \n",
    "<center>\n",
    "    [2:5, 2:6]\n",
    "</center>\n",
    "보통의 인덱스라면 `[2:6]`의 꼴을 띄고 있겠지만, 여기서는 `,`가 들어가 있는 것을 볼 수 있습니다.  \n",
    "`,`는 인덱스가 적용될 차원을 구분할때 쓰입니다. `,` 앞에 있는 `2:5`는 1차원에, `,` 뒤에 있는 `2:6`은 2차원에 적용됩니다.   \n",
    "1차원을 세로축, 2차원을 가로축이라 한다면 위의 그림과 같이 적용될 겁니다.  \n",
    "예시 코드를 실행해볼까요?"
   ]
  },
  {
   "cell_type": "code",
   "execution_count": 5,
   "id": "8d4c7e88-b87f-4cc6-8605-0593abc71fc1",
   "metadata": {},
   "outputs": [
    {
     "name": "stdout",
     "output_type": "stream",
     "text": [
      "[[ 0  1  2  3  4  5  6]\n",
      " [ 7  8  9 10 11 12 13]\n",
      " [14 15 16 17 18 19 20]\n",
      " [21 22 23 24 25 26 27]\n",
      " [28 29 30 31 32 33 34]\n",
      " [35 36 37 38 39 40 41]\n",
      " [42 43 44 45 46 47 48]]\n",
      "19\n"
     ]
    },
    {
     "data": {
      "text/plain": [
       "array([[16, 17, 18, 19],\n",
       "       [23, 24, 25, 26],\n",
       "       [30, 31, 32, 33]])"
      ]
     },
     "execution_count": 5,
     "metadata": {},
     "output_type": "execute_result"
    }
   ],
   "source": [
    "arr = np.ones((7, 7)) # 7 x 7의 1로 이루어진 배열 생성 np.arange(10) .reshape(5,2)\n",
    "arr = np.array(np.arange(49)).reshape(7,7)\n",
    "print(arr)\n",
    "arr[2:5, 2:6]"
   ]
  },
  {
   "cell_type": "markdown",
   "id": "c0b4b62d-6db4-4147-958f-98c10a5303d9",
   "metadata": {},
   "source": [
    "#### 문제풀기"
   ]
  },
  {
   "cell_type": "markdown",
   "id": "cd137234-e717-4661-baea-3af2737161ec",
   "metadata": {},
   "source": [
    "불러온 배열에 임의의 인덱스를 넣어 해당 인덱스로부터 24블록까지의 건물의 재료를 확인해봅시다.   \n",
    "우리가 찾고자 하는 정사각형 구역의 크기는 가로, 세로 모두 24블록입니다.   \n",
    "먼저 임의의 인덱스로부터 24블록까지 slicing해보고, 그 결과가 24블록이 맞는지 크기를 출력하여 확인해봅시다.   "
   ]
  },
  {
   "cell_type": "code",
   "execution_count": 7,
   "id": "f3ae975b-89e8-4df9-a819-ea5cb73852e4",
   "metadata": {},
   "outputs": [
    {
     "data": {
      "text/plain": [
       "(24, 24)"
      ]
     },
     "execution_count": 7,
     "metadata": {},
     "output_type": "execute_result"
    }
   ],
   "source": [
    "i = 120  \n",
    "j = 120  #임의의 인덱스 [120, 120]\n",
    "sample = house_arr[i:i + 24, j:j + 24]  #임의의 인덱스로부터 가로, 세로 각각 24만큼 slicing합니다. ([i,j]를 좌측상단 꼭짓점으로 하는 정사각형이 slicing됩니다.)\n",
    "sample.shape"
   ]
  },
  {
   "cell_type": "markdown",
   "id": "f611a8ae-c4d3-433a-be54-cc72f624ca84",
   "metadata": {},
   "source": [
    "### 1.3. 같은 값인지 확인하기"
   ]
  },
  {
   "cell_type": "markdown",
   "id": "fde91779-834f-4502-99d8-dcc9ff1fb147",
   "metadata": {},
   "source": [
    "철수는 뽑아낸 배열이 모두 같은 값인지 확인하려고 합니다.   \n",
    "뽑아낸 배열 안의 원소가 모두 같은 값이라면, 해당 구역의 모든 집은 같은 재료로 지어졌을 것이기 때문입니다.  \n",
    "철수는 뽑아낸 배열의 첫번째 값과 나머지 값들이 같은지를 확인하여 모든 원소가 동일한지 알아보려고 합니다.  \n",
    "먼저 배열의 각 원소의 값들이 첫번째 원소와 같다면 True, 다르다면 False이 되도록 출력해보자.  \n",
    "\n",
    "* `arr == <값>` - 배열의 모든 원소가 값과 일치한지를 비교한다. 값이 같다면 `True`를, 다르다면 `False`를 출력한다."
   ]
  },
  {
   "cell_type": "code",
   "execution_count": 6,
   "id": "b17474f7-152d-4a97-b2af-8b2227dbdd52",
   "metadata": {},
   "outputs": [
    {
     "data": {
      "text/plain": [
       "array([[ True, False, False, False, False, False, False, False, False,\n",
       "        False, False, False, False, False, False, False, False, False,\n",
       "        False, False, False, False, False, False],\n",
       "       [False, False, False, False, False, False, False, False, False,\n",
       "        False, False, False, False, False, False, False, False, False,\n",
       "        False, False,  True, False, False, False],\n",
       "       [False, False, False, False,  True, False, False, False, False,\n",
       "        False, False, False, False, False, False, False, False, False,\n",
       "        False, False, False, False, False, False],\n",
       "       [False, False, False, False, False, False, False,  True, False,\n",
       "        False, False, False, False, False, False, False, False, False,\n",
       "        False, False, False, False, False, False],\n",
       "       [False, False, False, False, False, False, False, False, False,\n",
       "        False, False, False, False,  True, False,  True,  True, False,\n",
       "        False, False, False, False, False,  True],\n",
       "       [False, False, False, False, False, False, False, False, False,\n",
       "        False, False, False, False, False, False, False, False,  True,\n",
       "        False,  True, False, False, False, False],\n",
       "       [False, False,  True, False, False, False,  True, False, False,\n",
       "        False, False, False, False, False, False, False, False, False,\n",
       "        False, False, False, False, False, False],\n",
       "       [False, False, False, False, False, False, False, False, False,\n",
       "        False, False, False, False, False, False, False, False, False,\n",
       "        False, False, False, False, False, False],\n",
       "       [False, False,  True, False, False, False, False,  True, False,\n",
       "        False, False, False, False, False, False, False, False, False,\n",
       "        False, False, False, False, False, False],\n",
       "       [False, False, False,  True, False, False, False, False, False,\n",
       "        False, False, False, False, False, False, False, False, False,\n",
       "        False, False, False,  True, False, False],\n",
       "       [False, False, False, False, False, False, False, False, False,\n",
       "        False, False, False, False, False, False, False, False, False,\n",
       "        False, False, False, False, False, False],\n",
       "       [False, False, False, False, False, False, False, False, False,\n",
       "        False, False, False, False, False, False, False, False, False,\n",
       "        False, False, False, False, False, False],\n",
       "       [False, False, False, False, False, False, False, False, False,\n",
       "        False, False, False, False, False, False, False, False, False,\n",
       "         True, False, False, False, False, False],\n",
       "       [False, False, False, False, False, False, False, False, False,\n",
       "        False, False, False, False,  True, False, False, False, False,\n",
       "        False, False, False, False, False, False],\n",
       "       [False, False, False, False, False,  True, False, False, False,\n",
       "        False, False, False, False, False, False, False, False, False,\n",
       "        False, False, False, False, False, False],\n",
       "       [False, False,  True,  True, False, False, False, False, False,\n",
       "        False, False, False, False, False, False, False, False, False,\n",
       "        False, False, False, False, False, False],\n",
       "       [False, False, False, False, False,  True, False, False, False,\n",
       "        False, False, False, False,  True, False, False, False, False,\n",
       "        False, False, False, False, False, False],\n",
       "       [False, False, False, False, False, False, False, False, False,\n",
       "        False, False, False, False, False, False, False, False, False,\n",
       "        False, False, False, False, False, False],\n",
       "       [False, False, False, False, False, False, False, False, False,\n",
       "        False, False, False, False, False,  True, False, False, False,\n",
       "        False, False, False, False, False, False],\n",
       "       [ True, False,  True,  True, False, False, False, False, False,\n",
       "        False, False, False, False, False, False, False, False,  True,\n",
       "         True, False,  True, False, False, False],\n",
       "       [False, False, False,  True, False, False, False, False, False,\n",
       "        False, False, False, False, False, False, False, False, False,\n",
       "        False, False, False, False, False, False],\n",
       "       [False, False, False, False, False, False, False, False, False,\n",
       "        False, False, False, False, False, False, False, False, False,\n",
       "        False, False, False, False, False, False],\n",
       "       [False, False, False, False, False, False, False, False, False,\n",
       "        False, False, False, False, False, False, False, False, False,\n",
       "        False, False, False, False, False, False],\n",
       "       [False, False, False, False,  True, False, False, False, False,\n",
       "        False, False, False, False, False, False, False, False, False,\n",
       "        False, False, False, False, False,  True]])"
      ]
     },
     "execution_count": 6,
     "metadata": {},
     "output_type": "execute_result"
    }
   ],
   "source": [
    "i = 120\n",
    "j = 120\n",
    "sample = house_arr[i:i + 24, j:j + 24]\n",
    "sample == sample[0, 0]"
   ]
  },
  {
   "cell_type": "markdown",
   "id": "59d5a50b-4f11-4c72-974a-79d0803bdd6b",
   "metadata": {},
   "source": [
    "### 1.4. 같은 값인지 확인하기"
   ]
  },
  {
   "cell_type": "markdown",
   "id": "910a2c98-341f-45d1-a10f-72cd793b3f57",
   "metadata": {},
   "source": [
    "1.3에서 출력한 True, False의 배열에 모두 True가 존재하는지 확인해보자.  \n",
    "* `np.all(arr)`은 numpy array인 arr가 모두 True인지 확인한 후 모두 True라면 True, 아니라면 False를 반환합니다."
   ]
  },
  {
   "cell_type": "code",
   "execution_count": 7,
   "id": "816f4614-71d5-4b40-8262-3c8fd6ad02f0",
   "metadata": {},
   "outputs": [
    {
     "data": {
      "text/plain": [
       "False"
      ]
     },
     "execution_count": 7,
     "metadata": {},
     "output_type": "execute_result"
    }
   ],
   "source": [
    "np.all(sample[0, 0] == sample)"
   ]
  },
  {
   "cell_type": "markdown",
   "id": "9f635e6f-2308-47f1-8567-fb5151edc227",
   "metadata": {},
   "source": [
    "### 1.5. 반복하기"
   ]
  },
  {
   "attachments": {
    "6a5a5390-0e01-4703-8ee5-994ab4d33516.png": {
     "image/png": "[encoded data removed]"
    }
   },
   "cell_type": "markdown",
   "id": "e7acd658-fa55-4520-a942-b2a78a3bda46",
   "metadata": {},
   "source": [
    "철수는 배열 내의 인덱스를 좌측 상단 꼭짓점으로 하는 모든 정사각형에 대해 1.3~1.4의 작업을 반복하려고 합니다. 그림과 같이 반복문을 구현보세요.  \n",
    "* 정사각형의 길이를 가정하여 인덱스의 범위를 설정한다.\n",
    "* 만약 특정 구역의 재료가 모두 동일하다면, 해당 구역의 좌측 상단 인덱스를 출력한다.\n",
    "![image.png](attachment:6a5a5390-0e01-4703-8ee5-994ab4d33516.png)\n"
   ]
  },
  {
   "cell_type": "code",
   "execution_count": 8,
   "id": "ac1f1768-580c-4676-b6eb-b541b98cb43e",
   "metadata": {},
   "outputs": [
    {
     "name": "stdout",
     "output_type": "stream",
     "text": [
      "True\n",
      "656 540\n"
     ]
    }
   ],
   "source": [
    "'''\n",
    "인덱스를 사용할 때 중요한 것은 array의 크기입니다. array크기를 넘어가는 값을 인덱스로 주면 오류가 발생합니다.\n",
    "우리는 주어진 인덱스에 24만큼 더해진 인덱스까지를 slicing할 것이기 때문에 마지막 24만큼을 제외하고 반복해야 인덱스 오류가 발생하지 않습니다.\n",
    "'''\n",
    "\n",
    "for i in range(1000 - 24): # 배열의 인덱스 중 첫번째 값(행)을 나타냅니다. i는 우측으로 24이상을 남겨두어야 24*24 크기의 정사각형을 만들 수 있습니다.\n",
    "    for j in range(1000 - 24): # 배열의 인덱스 중 두번째 값(열)을 나타냅니다. j는 하단에 24이상을 남겨두어야 24*24 크기의 정사각형을 만들 수 있습니다.  \n",
    "        sample = house_arr[i:i + 24, j:j + 24]\n",
    "        result = np.all(sample == sample[0, 0])\n",
    "\n",
    "        if result: #result가 참이라면, 즉 해당 구역의 재료가 모두 sample[0,0]과 동일하다면 아래 명령어를 실행합니다.\n",
    "            print(result)\n",
    "            print(i, j)\n"
   ]
  },
  {
   "cell_type": "markdown",
   "id": "7d639b74-2e8b-4533-9d2e-bddcd8363511",
   "metadata": {},
   "source": [
    "### 1.5. 검증하기\n",
    "철수는 마침내 재료가 같은 정사각형 구역을 찾아낼 수 있었다.\n",
    "1.4에서 알아낸 인덱스를 활용해 해당 구역을 출력해보자."
   ]
  },
  {
   "cell_type": "code",
   "execution_count": 14,
   "id": "95bf393a-a95d-42aa-ae4c-49f729d64daf",
   "metadata": {},
   "outputs": [
    {
     "data": {
      "text/plain": [
       "array([[4, 4, 4, 4, 4, 4, 4, 4, 4, 4, 4, 4, 4, 4, 4, 4, 4, 4, 4, 4, 4, 4,\n",
       "        4, 4],\n",
       "       [4, 4, 4, 4, 4, 4, 4, 4, 4, 4, 4, 4, 4, 4, 4, 4, 4, 4, 4, 4, 4, 4,\n",
       "        4, 4],\n",
       "       [4, 4, 4, 4, 4, 4, 4, 4, 4, 4, 4, 4, 4, 4, 4, 4, 4, 4, 4, 4, 4, 4,\n",
       "        4, 4],\n",
       "       [4, 4, 4, 4, 4, 4, 4, 4, 4, 4, 4, 4, 4, 4, 4, 4, 4, 4, 4, 4, 4, 4,\n",
       "        4, 4],\n",
       "       [4, 4, 4, 4, 4, 4, 4, 4, 4, 4, 4, 4, 4, 4, 4, 4, 4, 4, 4, 4, 4, 4,\n",
       "        4, 4],\n",
       "       [4, 4, 4, 4, 4, 4, 4, 4, 4, 4, 4, 4, 4, 4, 4, 4, 4, 4, 4, 4, 4, 4,\n",
       "        4, 4],\n",
       "       [4, 4, 4, 4, 4, 4, 4, 4, 4, 4, 4, 4, 4, 4, 4, 4, 4, 4, 4, 4, 4, 4,\n",
       "        4, 4],\n",
       "       [4, 4, 4, 4, 4, 4, 4, 4, 4, 4, 4, 4, 4, 4, 4, 4, 4, 4, 4, 4, 4, 4,\n",
       "        4, 4],\n",
       "       [4, 4, 4, 4, 4, 4, 4, 4, 4, 4, 4, 4, 4, 4, 4, 4, 4, 4, 4, 4, 4, 4,\n",
       "        4, 4],\n",
       "       [4, 4, 4, 4, 4, 4, 4, 4, 4, 4, 4, 4, 4, 4, 4, 4, 4, 4, 4, 4, 4, 4,\n",
       "        4, 4],\n",
       "       [4, 4, 4, 4, 4, 4, 4, 4, 4, 4, 4, 4, 4, 4, 4, 4, 4, 4, 4, 4, 4, 4,\n",
       "        4, 4],\n",
       "       [4, 4, 4, 4, 4, 4, 4, 4, 4, 4, 4, 4, 4, 4, 4, 4, 4, 4, 4, 4, 4, 4,\n",
       "        4, 4],\n",
       "       [4, 4, 4, 4, 4, 4, 4, 4, 4, 4, 4, 4, 4, 4, 4, 4, 4, 4, 4, 4, 4, 4,\n",
       "        4, 4],\n",
       "       [4, 4, 4, 4, 4, 4, 4, 4, 4, 4, 4, 4, 4, 4, 4, 4, 4, 4, 4, 4, 4, 4,\n",
       "        4, 4],\n",
       "       [4, 4, 4, 4, 4, 4, 4, 4, 4, 4, 4, 4, 4, 4, 4, 4, 4, 4, 4, 4, 4, 4,\n",
       "        4, 4],\n",
       "       [4, 4, 4, 4, 4, 4, 4, 4, 4, 4, 4, 4, 4, 4, 4, 4, 4, 4, 4, 4, 4, 4,\n",
       "        4, 4],\n",
       "       [4, 4, 4, 4, 4, 4, 4, 4, 4, 4, 4, 4, 4, 4, 4, 4, 4, 4, 4, 4, 4, 4,\n",
       "        4, 4],\n",
       "       [4, 4, 4, 4, 4, 4, 4, 4, 4, 4, 4, 4, 4, 4, 4, 4, 4, 4, 4, 4, 4, 4,\n",
       "        4, 4],\n",
       "       [4, 4, 4, 4, 4, 4, 4, 4, 4, 4, 4, 4, 4, 4, 4, 4, 4, 4, 4, 4, 4, 4,\n",
       "        4, 4],\n",
       "       [4, 4, 4, 4, 4, 4, 4, 4, 4, 4, 4, 4, 4, 4, 4, 4, 4, 4, 4, 4, 4, 4,\n",
       "        4, 4],\n",
       "       [4, 4, 4, 4, 4, 4, 4, 4, 4, 4, 4, 4, 4, 4, 4, 4, 4, 4, 4, 4, 4, 4,\n",
       "        4, 4],\n",
       "       [4, 4, 4, 4, 4, 4, 4, 4, 4, 4, 4, 4, 4, 4, 4, 4, 4, 4, 4, 4, 4, 4,\n",
       "        4, 4],\n",
       "       [4, 4, 4, 4, 4, 4, 4, 4, 4, 4, 4, 4, 4, 4, 4, 4, 4, 4, 4, 4, 4, 4,\n",
       "        4, 4],\n",
       "       [4, 4, 4, 4, 4, 4, 4, 4, 4, 4, 4, 4, 4, 4, 4, 4, 4, 4, 4, 4, 4, 4,\n",
       "        4, 4]])"
      ]
     },
     "execution_count": 14,
     "metadata": {},
     "output_type": "execute_result"
    }
   ],
   "source": [
    "house_arr[656:656 + 24, 540: 540 + 24]"
   ]
  },
  {
   "cell_type": "markdown",
   "id": "dfef798b-2f6f-4a4b-9546-5f83c9f5792d",
   "metadata": {},
   "source": [
    "## 2. 엔딩"
   ]
  },
  {
   "cell_type": "markdown",
   "id": "ca8cd933-4c5c-4fec-960c-43e0d6257a2a",
   "metadata": {},
   "source": [
    "\"오래 기다리셨습니다! 마침 같은 재료로 지어진 건물은 찾았습니다. 다만 서두르셔야 겠어요\"  \n",
    "손님의 눈이 동그라졌다.  \n",
    "\"하하. 선생님 무슨 일인데 그러시나요?\"  \n",
    "\"집이 하나밖에 남지 않았거든요. 그런데 최근에 비슷한 문의를 주신 분이 계셔서... 곧 나갈지도 모릅니다.\"\n",
    "\n",
    "사실 그런 문의는 받은적이 없는 철수였다.  \n",
    "그 사실은 모르는 손님의 입이 쩌억 벌어졌다.  \n",
    "\"바..바로 사겠습니다.\"  \n",
    "\"네 여기로 오셔서 도장 찍으시죠\"  \n",
    "철수는 싱글벙글 웃으며 손님에게 계약서를 내밀었다.  \n"
   ]
  }
 ],
 "metadata": {
  "kernelspec": {
   "display_name": "Python 3 (ipykernel)",
   "language": "python",
   "name": "python3"
  },
  "language_info": {
   "codemirror_mode": {
    "name": "ipython",
    "version": 3
   },
   "file_extension": ".py",
   "mimetype": "text/x-python",
   "name": "python",
   "nbconvert_exporter": "python",
   "pygments_lexer": "ipython3",
   "version": "3.10.4"
  }
 },
 "nbformat": 4,
 "nbformat_minor": 5
}
